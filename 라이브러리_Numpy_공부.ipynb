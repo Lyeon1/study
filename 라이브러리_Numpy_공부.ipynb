{
  "nbformat": 4,
  "nbformat_minor": 0,
  "metadata": {
    "colab": {
      "provenance": [],
      "collapsed_sections": [],
      "authorship_tag": "ABX9TyO1R3jmrBaFFTzfBF0HN/Kv",
      "include_colab_link": true
    },
    "kernelspec": {
      "name": "python3",
      "display_name": "Python 3"
    },
    "language_info": {
      "name": "python"
    }
  },
  "cells": [
    {
      "cell_type": "markdown",
      "metadata": {
        "id": "view-in-github",
        "colab_type": "text"
      },
      "source": [
        "<a href=\"https://colab.research.google.com/github/Lyeon1/study/blob/master/%EB%9D%BC%EC%9D%B4%EB%B8%8C%EB%9F%AC%EB%A6%AC_Numpy_%EA%B3%B5%EB%B6%80.ipynb\" target=\"_parent\"><img src=\"https://colab.research.google.com/assets/colab-badge.svg\" alt=\"Open In Colab\"/></a>"
      ]
    },
    {
      "cell_type": "code",
      "execution_count": 24,
      "metadata": {
        "colab": {
          "base_uri": "https://localhost:8080/"
        },
        "id": "rETHc-WodmmK",
        "outputId": "875c1045-ccf0-49b9-e949-d77c0d1964b3"
      },
      "outputs": [
        {
          "output_type": "stream",
          "name": "stdout",
          "text": [
            "[4 5 6]\n",
            "(3,)\n",
            "\n",
            "<class 'numpy.ndarray'>\n",
            "(2, 3)\n",
            "\n",
            "1\n",
            "2\n",
            "\n",
            "<class 'list'>\n",
            "<class 'numpy.ndarray'>\n",
            "[1 2 3] int64\n",
            "\n",
            "['1' '2' '3' 'test'] <U21\n",
            "\n",
            "[1. 2. 3. 4.] float64\n",
            "\n",
            "[1. 2. 3.] float64\n",
            "\n",
            "[1 2 3] int32\n",
            "\n",
            "[0 1 2 3 4 5 6 7 8 9]\n",
            "int64 (10,)\n",
            "\n",
            "[[0 0]\n",
            " [0 0]\n",
            " [0 0]] int32 (3, 2)\n",
            "\n",
            "[[1. 1.]\n",
            " [1. 1.]\n",
            " [1. 1.]] float64 (3, 2)\n",
            "\n",
            "o: \n",
            " [0 1 2 3 4 5 6 7 8 9]\n",
            "p: \n",
            " [[0 1 2 3 4]\n",
            " [5 6 7 8 9]]\n",
            "\n",
            "r: \n",
            " [[[0 1]\n",
            "  [2 3]]\n",
            "\n",
            " [[4 5]\n",
            "  [6 7]]]\n",
            "\n",
            "s: [1 2 3 4 5 6 7 8 9]\n",
            "t: 3\n"
          ]
        }
      ],
      "source": [
        "import numpy as np\n",
        "\n",
        "a=np.array([1,2,3])\n",
        "print(a+3)\n",
        "print(a.shape)\n",
        "print()\n",
        "\n",
        "b=np.array([[1,2,3],[4,5,6]])\n",
        "print(type(b))\n",
        "print(b.shape)\n",
        "print()\n",
        "\n",
        "print(a.ndim)\n",
        "print(b.ndim)\n",
        "print()\n",
        "\n",
        "c=[1,2,3]\n",
        "print(type(c))\n",
        "d=np.array(c)\n",
        "print(type(d))\n",
        "print(d, d.dtype)\n",
        "print()\n",
        "\n",
        "e=[1,2,3,'test']\n",
        "f=np.array(e)\n",
        "print(f,f.dtype)\n",
        "print()\n",
        "\n",
        "g=[1,2,3,4.0]\n",
        "h=np.array(g)\n",
        "print(h,h.dtype)\n",
        "print()\n",
        "\n",
        "i=np.array([1,2,3])\n",
        "j=i.astype('float64')\n",
        "print(j,j.dtype)\n",
        "print()\n",
        "\n",
        "k=i.astype('int32')\n",
        "print(k,k.dtype)\n",
        "print()\n",
        "\n",
        "l=np.arange(10)\n",
        "print(l)\n",
        "print(l.dtype,l.shape)\n",
        "print()\n",
        "\n",
        "m=np.zeros((3,2),dtype=\"int32\")\n",
        "print(m, m.dtype, m.shape)\n",
        "print()\n",
        "\n",
        "n=np.ones((3,2))\n",
        "print(n, n.dtype, n.shape)\n",
        "print()\n",
        "\n",
        "o=np.arange(10)\n",
        "print('o: \\n', o)\n",
        "p=o.reshape(2,5)\n",
        "print(\"p: \\n\", p)\n",
        "print()\n",
        "\n",
        "q=np.arange(8)\n",
        "r=q.reshape(2,2,2)\n",
        "print(\"r: \\n\", r)\n",
        "print()\n",
        "\n",
        "s=np.arange(start=1, stop=10)\n",
        "print(\"s:\",s)\n",
        "t=s[2]\n",
        "print(\"t:\",t)\n"
      ]
    },
    {
      "cell_type": "code",
      "source": [
        "a=np.arange(start=1, stop=10)\n",
        "b=a.reshape(3,3)\n",
        "print(b)\n",
        "print('(row=0, col=0) index를 가르키는 값:',b[0,0])\n",
        "print('(row=0, col=1) index를 가르키는 값:',b[0,1])\n"
      ],
      "metadata": {
        "colab": {
          "base_uri": "https://localhost:8080/"
        },
        "id": "trkowDonqh_s",
        "outputId": "a0ce6e38-130c-4ae4-85fe-5067c12f9ff3"
      },
      "execution_count": 26,
      "outputs": [
        {
          "output_type": "stream",
          "name": "stdout",
          "text": [
            "[[1 2 3]\n",
            " [4 5 6]\n",
            " [7 8 9]]\n",
            "(row=0, col=0) index를 가르키는 값: 1\n",
            "(row=0, col=1) index를 가르키는 값: 2\n"
          ]
        }
      ]
    },
    {
      "cell_type": "code",
      "source": [
        "a=np.arange(start=1, stop=10)\n",
        "b=a.reshape(3,3)\n",
        "print(\"b:\\n\",b)\n",
        "print()\n",
        "print(\"b[0:2,0:2]:\\n\",b[0:2,0:2])\n",
        "print(\"shape:\",b[0:2,0:2].shape)\n",
        "print()\n",
        "print(b[0],\"shape:\")\n",
        "print(b[0].shape)\n",
        "print()\n",
        "c=b[[0,1],2]\n",
        "print(c)\n",
        "print(c.tolist())"
      ],
      "metadata": {
        "colab": {
          "base_uri": "https://localhost:8080/"
        },
        "id": "4aPrLLZ1u5re",
        "outputId": "bec283aa-22e2-4016-8d38-761a7e6e549a"
      },
      "execution_count": 58,
      "outputs": [
        {
          "output_type": "stream",
          "name": "stdout",
          "text": [
            "b:\n",
            " [[1 2 3]\n",
            " [4 5 6]\n",
            " [7 8 9]]\n",
            "\n",
            "b[0:2,0:2]:\n",
            " [[1 2]\n",
            " [4 5]]\n",
            "shape: (2, 2)\n",
            "\n",
            "[1 2 3] shape:\n",
            "(3,)\n",
            "\n",
            "[3 6]\n",
            "[3, 6]\n"
          ]
        }
      ]
    },
    {
      "cell_type": "code",
      "source": [
        "a=np.arange(start=1, stop=10)\n",
        "b=a[a>5]\n",
        "c=a[a==1]\n",
        "d=np.array([False,False,True,True,True,False,False,False,False])\n",
        "e=a[d]\n",
        "f=np.array([2,3,4])\n",
        "g=a[f]\n",
        "print(b)\n",
        "print(a>5)\n",
        "print(c)\n",
        "print(a==1)\n",
        "print(d)\n",
        "print(e)\n",
        "print(f)\n",
        "print(g)"
      ],
      "metadata": {
        "colab": {
          "base_uri": "https://localhost:8080/"
        },
        "id": "xLvVzV1JyY4u",
        "outputId": "78d1d36a-1b3a-415c-eb00-2f82635fde9f"
      },
      "execution_count": 72,
      "outputs": [
        {
          "output_type": "stream",
          "name": "stdout",
          "text": [
            "[6 7 8 9]\n",
            "[False False False False False  True  True  True  True]\n",
            "[1]\n",
            "[ True False False False False False False False False]\n",
            "[False False  True  True  True False False False False]\n",
            "[3 4 5]\n",
            "[2 3 4]\n",
            "[3 4 5]\n"
          ]
        }
      ]
    },
    {
      "cell_type": "code",
      "source": [
        "a=np.array([3,1,9,5])\n",
        "print(\"원본행렬:\", a)\n",
        "b=np.sort(a)\n",
        "print(\"np.sort() 호출 후 반환된 정렬 행렬:\",b)\n",
        "print(\"np.sort() 호출 후 원본 행렬:\",a)\n",
        "print()\n",
        "c=a.sort()\n",
        "print(\"a.sort() 호출 후 반환된 행렬:\",c)\n",
        "print(\"a.sort() 호출 후 원본 행렬:\",a)\n",
        "c=a\n",
        "print(\"c=a 지정 후 반환된 행렬:\",c)\n",
        "d=np.sort(a)[::-1]\n",
        "print(\"슬라이싱[::-1]으로 행렬 뒤집기(내림차순 정렬):\",d)"
      ],
      "metadata": {
        "colab": {
          "base_uri": "https://localhost:8080/"
        },
        "id": "ZCBIskHw1mxU",
        "outputId": "7bc1e042-f190-461c-ed4b-22d497cdd311"
      },
      "execution_count": 88,
      "outputs": [
        {
          "output_type": "stream",
          "name": "stdout",
          "text": [
            "원본행렬: [3 1 9 5]\n",
            "np.sort() 호출 후 반환된 정렬 행렬: [1 3 5 9]\n",
            "np.sort() 호출 후 원본 행렬: [3 1 9 5]\n",
            "\n",
            "a.sort() 호출 후 반환된 행렬: None\n",
            "a.sort() 호출 후 원본 행렬: [1 3 5 9]\n",
            "c=a 지정 후 반환된 행렬: [1 3 5 9]\n",
            "슬라이싱[::-1]으로 행렬 뒤집기(내림차순 정렬): [9 5 3 1]\n"
          ]
        }
      ]
    },
    {
      "cell_type": "code",
      "source": [
        "a=np.array([[20,5,100],[2,50,600],[1,30,200]])\n",
        "print(\"원본행렬:\\n\",a)\n",
        "b=np.sort(a,axis=0)\n",
        "c=np.sort(a,axis=1)\n",
        "print(\"로우(행)방향으로 정렬:\\n\",b)\n",
        "print(\"컬럼(열)방향으로 정렬:\\n\",c)"
      ],
      "metadata": {
        "colab": {
          "base_uri": "https://localhost:8080/"
        },
        "id": "Hu7pUCYS35x8",
        "outputId": "0cf5274f-cd7f-4564-eb56-3da3e5356cdc"
      },
      "execution_count": 122,
      "outputs": [
        {
          "output_type": "stream",
          "name": "stdout",
          "text": [
            "원본행렬:\n",
            " [[ 20   5 100]\n",
            " [  2  50 600]\n",
            " [  1  30 200]]\n",
            "로우(행)방향으로 정렬:\n",
            " [[  1   5 100]\n",
            " [  2  30 200]\n",
            " [ 20  50 600]]\n",
            "컬럼(열)방향으로 정렬:\n",
            " [[  5  20 100]\n",
            " [  2  50 600]\n",
            " [  1  30 200]]\n"
          ]
        }
      ]
    },
    {
      "cell_type": "code",
      "source": [
        "a=np.array([3,1,9,5])\n",
        "b=np.argsort(a)\n",
        "c=np.argsort(a)[::-1]\n",
        "print(\"행렬 오름차순 정렬 시 원본 행렬의 인덱스:\",b)\n",
        "print(\"행렬 내림차순 정렬 시 원본 행렬의 인덱스:\",c)\n"
      ],
      "metadata": {
        "colab": {
          "base_uri": "https://localhost:8080/"
        },
        "id": "eAoCsoOI8VwC",
        "outputId": "76e6ab64-9b47-4312-e503-02bab9822332"
      },
      "execution_count": 124,
      "outputs": [
        {
          "output_type": "stream",
          "name": "stdout",
          "text": [
            "행렬 오름차순 정렬 시 원본 행렬의 인덱스: [1 0 3 2]\n",
            "행렬 내림차순 정렬 시 원본 행렬의 인덱스: [2 3 0 1]\n"
          ]
        }
      ]
    },
    {
      "cell_type": "code",
      "source": [
        "a=np.array([[1,2,3],[4,5,6]])\n",
        "b=np.array([[7,8],[9,10],[11,12]])\n",
        "c=np.dot(a,b)\n",
        "print(\"행렬 내적 결과:\\n\",c)"
      ],
      "metadata": {
        "colab": {
          "base_uri": "https://localhost:8080/"
        },
        "id": "xayVDBBW9CK_",
        "outputId": "51e1841c-8e89-4779-8f14-263395637994"
      },
      "execution_count": 126,
      "outputs": [
        {
          "output_type": "stream",
          "name": "stdout",
          "text": [
            "행렬 내적 결과:\n",
            " [[ 58  64]\n",
            " [139 154]]\n"
          ]
        }
      ]
    },
    {
      "cell_type": "code",
      "source": [
        "a=np.array([[1,2],[3,4]])\n",
        "b=np.transpose(a)\n",
        "print(\"원본 행렬:\\n\",a)\n",
        "print(\"전치 행렬:\\n\",b)"
      ],
      "metadata": {
        "colab": {
          "base_uri": "https://localhost:8080/"
        },
        "id": "qJ6XHVkC9w2U",
        "outputId": "34aece2c-a25f-4e20-bf6c-dfcf0d40364f"
      },
      "execution_count": 127,
      "outputs": [
        {
          "output_type": "stream",
          "name": "stdout",
          "text": [
            "원본 행렬:\n",
            " [[1 2]\n",
            " [3 4]]\n",
            "전치 행렬:\n",
            " [[1 3]\n",
            " [2 4]]\n"
          ]
        }
      ]
    }
  ]
}