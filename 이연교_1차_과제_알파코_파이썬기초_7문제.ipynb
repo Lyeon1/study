{
  "cells": [
    {
      "cell_type": "markdown",
      "metadata": {
        "id": "view-in-github",
        "colab_type": "text"
      },
      "source": [
        "<a href=\"https://colab.research.google.com/github/Lyeon1/study/blob/master/%EC%9D%B4%EC%97%B0%EA%B5%90_1%EC%B0%A8_%EA%B3%BC%EC%A0%9C_%EC%95%8C%ED%8C%8C%EC%BD%94_%ED%8C%8C%EC%9D%B4%EC%8D%AC%EA%B8%B0%EC%B4%88_7%EB%AC%B8%EC%A0%9C.ipynb\" target=\"_parent\"><img src=\"https://colab.research.google.com/assets/colab-badge.svg\" alt=\"Open In Colab\"/></a>"
      ]
    },
    {
      "cell_type": "markdown",
      "id": "43e39d6e",
      "metadata": {
        "id": "43e39d6e"
      },
      "source": [
        "### 문제 1\n",
        "책 값, 할인율, 배송료를 입력 받아 책의 결제 금액을 계산하는 프로그램을 만들어보세요.  \n",
        "(결제금액 : 책 값 - (책값 X (할인율/100)) + 배송료)"
      ]
    },
    {
      "cell_type": "code",
      "source": [
        "책값=input(\"책값: \")\n",
        "할인율=input(\"할인율: \")\n",
        "배송료=input(\"배송료: \")\n",
        "\n",
        "A=float(책값)\n",
        "B=float(할인율)\n",
        "C=float(배송료)\n",
        "결제금액=int(A-(A*(B/100))+C)\n",
        "print(\"결제금액: {}원\".format(결제금액))"
      ],
      "metadata": {
        "id": "iAHl_71u8tCY",
        "colab": {
          "base_uri": "https://localhost:8080/"
        },
        "outputId": "4effad9e-120e-46c2-f2a8-98cc29d24e63"
      },
      "id": "iAHl_71u8tCY",
      "execution_count": null,
      "outputs": [
        {
          "output_type": "stream",
          "name": "stdout",
          "text": [
            "책값: 10000\n",
            "할인율: 3.3\n",
            "배송료: 1000\n",
            "결제금액: 10670원\n"
          ]
        }
      ]
    },
    {
      "cell_type": "markdown",
      "source": [
        "책값 5000원\n",
        "할인율 30퍼\n",
        "배송료 10원\n",
        "이렇게 뒤에 글자가 붙으면 실행이 안됨"
      ],
      "metadata": {
        "id": "AYjoHv9dd0mr"
      },
      "id": "AYjoHv9dd0mr"
    },
    {
      "cell_type": "code",
      "source": [
        "책값=input(\"책값: \")\n",
        "할인율=input(\"할인율: \")\n",
        "배송료=input(\"배송료: \")\n",
        "\n",
        "def asd(a):\n",
        "  try:\n",
        "    float(a)\n",
        "  except:\n",
        "    return float(a[:-1])\n",
        "  else:\n",
        "    return float(a)\n",
        "\n",
        "a=asd(책값.strip())\n",
        "b=asd(할인율.strip())\n",
        "c=asd(배송료.strip())\n",
        "\n",
        "d=int(a-(a*(b/100))+c)\n",
        "print(\"결제금액: {}원\".format(d))"
      ],
      "metadata": {
        "colab": {
          "base_uri": "https://localhost:8080/"
        },
        "id": "7OZ7lWElduPG",
        "outputId": "17cc188b-abea-4d58-c9c5-afd47abfe3d0"
      },
      "id": "7OZ7lWElduPG",
      "execution_count": null,
      "outputs": [
        {
          "output_type": "stream",
          "name": "stdout",
          "text": [
            "책값: 5000원\n",
            "할인율: 10%\n",
            "배송료: 1000\n",
            "결제금액: 5500원\n"
          ]
        }
      ]
    },
    {
      "cell_type": "markdown",
      "source": [
        "3000 원, 3000won\n",
        "10프로 이면 실행안됨"
      ],
      "metadata": {
        "id": "9NwPrFUHiKVT"
      },
      "id": "9NwPrFUHiKVT"
    },
    {
      "cell_type": "code",
      "source": [
        "책값=input(\"책값: \")\n",
        "할인율=input(\"할인율: \")\n",
        "배송료=input(\"배송료: \")\n",
        "\n",
        "책값=책값.strip()\n",
        "할인율=할인율.strip()\n",
        "배송료=배송료.strip()\n",
        "\n",
        "def fun_1(a):\n",
        "    try:\n",
        "        float(a)\n",
        "    except:\n",
        "        return fun_2(a)\n",
        "    else:\n",
        "        return float(a)\n",
        "\n",
        "\n",
        "def fun_2(a):\n",
        "    list_a=list(a)\n",
        "    list_b=[]\n",
        "    for i in list_a:\n",
        "        try:\n",
        "            float(i)\n",
        "        except:\n",
        "            pass\n",
        "        else:\n",
        "            list_b.append(i)\n",
        "    return float((\"{}\"*len(list_b)).format(*list_b))\n",
        "\n",
        "\n",
        "a=fun_1(책값)\n",
        "b=fun_1(할인율)\n",
        "c=fun_1(배송료)\n",
        "\n",
        "d=int(a-(a*(b/100))+c)\n",
        "\n",
        "print(\"결제금액: {}원\".format(d))"
      ],
      "metadata": {
        "colab": {
          "base_uri": "https://localhost:8080/"
        },
        "id": "wSUQZgrKyEbC",
        "outputId": "7f47432f-d4aa-4489-ba96-aa60f951d8da"
      },
      "id": "wSUQZgrKyEbC",
      "execution_count": null,
      "outputs": [
        {
          "output_type": "stream",
          "name": "stdout",
          "text": [
            "책값: 10,000원\n",
            "할인율: 10프로\n",
            "배송료: 3000\n",
            "결제금액: 12000원\n"
          ]
        }
      ]
    },
    {
      "cell_type": "markdown",
      "source": [
        "할인율에 소수점이 들어가면 다른 값이 나옴\n",
        "15.5프로를 넣으면 155% 할인이 적용됨"
      ],
      "metadata": {
        "id": "iIk_W5zZzyI3"
      },
      "id": "iIk_W5zZzyI3"
    },
    {
      "cell_type": "code",
      "source": [
        "def jud(a):\n",
        "    while True:\n",
        "        b=input(\"{}을 입력하시오. : \".format(a))\n",
        "        if b.count('.') <= 1:\n",
        "            return b.strip()\n",
        "        else:\n",
        "            print(f\"{a}을 정확히 입력하시오.\")\n",
        "\n",
        "a_1=jud(\"책값\")\n",
        "b_1=jud(\"할인율\")\n",
        "c_1=jud(\"배송료\")\n",
        "\n",
        "def fun_3(a):\n",
        "        try:\n",
        "            float(a)\n",
        "        except:\n",
        "            return fun_4(a)\n",
        "        else:\n",
        "            return float(a)\n",
        "\n",
        "def fun_4(a):\n",
        "    list_a=list(a)\n",
        "    list_b=[]\n",
        "    for i in list_a:\n",
        "        if i==\".\":\n",
        "            list_b.append(i)\n",
        "        else:\n",
        "            try:\n",
        "                float(i)\n",
        "            except:\n",
        "                pass\n",
        "            else:\n",
        "                list_b.append(i)\n",
        "    return float((\"{}\"*len(list_b)).format(*list_b))\n",
        "\n",
        "a_2=fun_3(a_1)\n",
        "b_2=fun_3(b_1)\n",
        "c_2=fun_3(c_1)\n",
        "\n",
        "d=int(a_2-(a_2*(b_2/100))+c_2)\n",
        "\n",
        "print(\"결제금액: {}원\".format(d))\n"
      ],
      "metadata": {
        "colab": {
          "base_uri": "https://localhost:8080/"
        },
        "id": "FLKJ9yMnz756",
        "outputId": "78cd067c-95eb-4bfe-8d0f-19d4b78eac06"
      },
      "id": "FLKJ9yMnz756",
      "execution_count": null,
      "outputs": [
        {
          "output_type": "stream",
          "name": "stdout",
          "text": [
            "책값을 입력하시오. : 10,000 원\n",
            "할인율을 입력하시오. : 15.5 %(프로)\n",
            "배송료을 입력하시오. : 3000won\n",
            "결제금액: 11450원\n"
          ]
        }
      ]
    },
    {
      "cell_type": "markdown",
      "source": [
        "음수를 입력하거나 한글로 입력할 경우에 실행되지 않음"
      ],
      "metadata": {
        "id": "Uzf_ctHRiLs4"
      },
      "id": "Uzf_ctHRiLs4"
    },
    {
      "cell_type": "code",
      "source": [
        "def jud(a):\n",
        "    while True:\n",
        "        b=input(\"{}을 입력하시오. : \".format(a))\n",
        "        b=b.strip()\n",
        "        if bool(fun_3(b)) is True:\n",
        "            return fun_3(b)\n",
        "        else:\n",
        "            print(f\"{a}을/를 다시 입력하시오.\")\n",
        "\n",
        "def fun_3(a):\n",
        "        try:\n",
        "            if fun_4(a) >= 0:\n",
        "                return float(a)\n",
        "        except:\n",
        "            return fun_4(a)\n",
        "\n",
        "def fun_4(a):\n",
        "    list_a=list(a)\n",
        "    list_b=[]\n",
        "    try:\n",
        "        for i in list_a:\n",
        "            if i==\".\" or i==\"-\":\n",
        "                list_b.append(i)\n",
        "            else:\n",
        "                try:\n",
        "                    list_b.append(int(i))\n",
        "                except:\n",
        "                    pass\n",
        "        return float((\"{}\"*len(list_b)).format(*list_b))\n",
        "    except:\n",
        "        return False\n",
        "\n",
        "a=jud(\"책값\")\n",
        "b=jud(\"할인율\")\n",
        "c=jud(\"배송료\")\n",
        "\n",
        "d=int(a-(a*(b/100))+c)\n",
        "\n",
        "print(\"결제금액: {}원\".format(d))\n"
      ],
      "metadata": {
        "colab": {
          "base_uri": "https://localhost:8080/"
        },
        "id": "jEG02xONiPSO",
        "outputId": "1d1aa187-0bf1-4f7a-f3a0-d58cab33c872"
      },
      "id": "jEG02xONiPSO",
      "execution_count": null,
      "outputs": [
        {
          "output_type": "stream",
          "name": "stdout",
          "text": [
            "책값을 입력하시오. : 10,000..원\n",
            "책값을/를 다시 입력하시오.\n",
            "책값을 입력하시오. : -10000\n",
            "책값을/를 다시 입력하시오.\n",
            "책값을 입력하시오. : 10,000 원\n",
            "할인율을 입력하시오. : 15.5 %(프로)\n",
            "배송료을 입력하시오. : 3000\n",
            "결제금액: 11450원\n"
          ]
        }
      ]
    },
    {
      "cell_type": "markdown",
      "source": [
        "어떤걸 잘못입력했는지 추가하기"
      ],
      "metadata": {
        "id": "sf_dVdhOuPbd"
      },
      "id": "sf_dVdhOuPbd"
    },
    {
      "cell_type": "code",
      "source": [
        "def jud(a):\n",
        "    while True:\n",
        "        b=input(\"{}을/를 입력하세요.\\n: \".format(a))\n",
        "        b=b.strip()\n",
        "        if bool(fun_3(b)) is True:\n",
        "            return fun_3(b)\n",
        "        else:\n",
        "            print(f\"다시\", end=\" \")\n",
        "\n",
        "def fun_3(a):\n",
        "        try:\n",
        "            if fun_4(a) >= 0: # False는 0보다 커서 if문이 실행되는 경우가 발생\n",
        "                return fun_4(a)\n",
        "            else:\n",
        "                print(\"0보다 큰 수를 입력하세요.\", end=\" \")\n",
        "        except:\n",
        "            print(\"올바른 아라비아 숫자로 입력하세요.\", end=\" \")\n",
        "\n",
        "def fun_4(a):\n",
        "    list_a=list(a)\n",
        "    list_b=[]\n",
        "    try:\n",
        "        for i in list_a:\n",
        "            if i==\".\" or i==\"-\":\n",
        "                list_b.append(i)\n",
        "            else:\n",
        "                try:\n",
        "                    list_b.append(int(i))\n",
        "                except:\n",
        "                    pass\n",
        "        return float((\"{}\"*len(list_b)).format(*list_b))\n",
        "    except:\n",
        "        return ValueError\n",
        "        # False에서 ValueError로 변경, '만원' 입력시 False가 되지 않게하기 위함.\n",
        "        # fun_3로 ValueError를 전달하여 fun_3의 except가 수행되도록 함.\n",
        "\n",
        "a=jud(\"책값\")\n",
        "b=jud(\"할인율\")\n",
        "c=jud(\"배송료\")\n",
        "\n",
        "d=int(a-(a*(b/100))+c)\n",
        "\n",
        "print(\"결제금액: {}원\".format(d))\n"
      ],
      "metadata": {
        "colab": {
          "base_uri": "https://localhost:8080/"
        },
        "id": "3wOqx7gTun1P",
        "outputId": "afc6cd4a-6662-4a21-f071-5ab5ee5ba596"
      },
      "id": "3wOqx7gTun1P",
      "execution_count": null,
      "outputs": [
        {
          "output_type": "stream",
          "name": "stdout",
          "text": [
            "책값을/를 입력하세요.\n",
            ": ㅁㄴㅇ\n",
            "올바른 아라비아 숫자로 입력하세요. 다시 책값을/를 입력하세요.\n",
            ": -1000\n",
            "0보다 큰 수를 입력하세요. 다시 책값을/를 입력하세요.\n",
            ": 10,000 원\n",
            "할인율을/를 입력하세요.\n",
            ": 15.5%(프로)\n",
            "배송료을/를 입력하세요.\n",
            ": 3000 won w o n\n",
            "결제금액: 11450원\n"
          ]
        }
      ]
    },
    {
      "cell_type": "markdown",
      "id": "de9d656c",
      "metadata": {
        "id": "de9d656c"
      },
      "source": [
        "### 문제 2\n",
        "\n",
        "일주일간 일한 시간에 따라 주급을 계산하는 프로그램을 만들어보세요.  \n",
        "(단 시급은 12,000원이며, 40시간을 초과한 시간에 대해서는 오버타임을 적용하여 시급의 1.5배로 계산합니다.)"
      ]
    },
    {
      "cell_type": "code",
      "source": [
        "n=input(\"일주일간 일한 시간을 입력하시오 :\")\n",
        "n=float(n)\n",
        "if n>40:\n",
        "    a=(40*12000)+(n-40)*float(12000*1.5)\n",
        "else:\n",
        "    a=12000*n\n",
        "print(\"{}원\".format(int(a)))"
      ],
      "metadata": {
        "id": "eplK0F0x8tqi",
        "colab": {
          "base_uri": "https://localhost:8080/"
        },
        "outputId": "4374ca22-1296-4a6d-87d0-bb72cf429c16"
      },
      "id": "eplK0F0x8tqi",
      "execution_count": null,
      "outputs": [
        {
          "output_type": "stream",
          "name": "stdout",
          "text": [
            "일주일간 일한 시간을 입력하시오 :40.313543\n",
            "485643원\n"
          ]
        }
      ]
    },
    {
      "cell_type": "markdown",
      "source": [
        "1시간 30분 이런식으로 입력하면?"
      ],
      "metadata": {
        "id": "WKOaAFdxCuGG"
      },
      "id": "WKOaAFdxCuGG"
    },
    {
      "cell_type": "markdown",
      "id": "451ad5ff",
      "metadata": {
        "id": "451ad5ff"
      },
      "source": [
        "### 문제 3\n",
        "while문을 사용하여 1~1000까지 3의 배수의 합을 구해보세요."
      ]
    },
    {
      "cell_type": "code",
      "source": [
        "i=1000\n",
        "a=0\n",
        "while i>0:\n",
        "    if i % 3 == 0:\n",
        "      a+=i\n",
        "    i-=1\n",
        "print(a)"
      ],
      "metadata": {
        "id": "nZFuvWGq8uIm",
        "colab": {
          "base_uri": "https://localhost:8080/"
        },
        "outputId": "d73a19c2-9958-4f48-d619-eb3fe62f1e29"
      },
      "id": "nZFuvWGq8uIm",
      "execution_count": null,
      "outputs": [
        {
          "output_type": "stream",
          "name": "stdout",
          "text": [
            "166833\n"
          ]
        }
      ]
    },
    {
      "cell_type": "markdown",
      "id": "1b362cdd",
      "metadata": {
        "id": "1b362cdd"
      },
      "source": [
        "### 문제 4\n",
        "리스트 file_names에서 for문을 사용하여 실행 결과에서와 같이 파일명과 확장자를 분리하는 프로그램을 만들어보세요.  \n",
        "file_names = ['file1.py', 'file2.txt', 'file3.pptx', 'file4.doc']"
      ]
    },
    {
      "cell_type": "code",
      "source": [
        "file_names = ['file1.py', 'file2.txt', 'file3.pptx', 'file4.doc']\n",
        "for i in file_names:\n",
        "    print(i.split(\".\"))"
      ],
      "metadata": {
        "colab": {
          "base_uri": "https://localhost:8080/"
        },
        "id": "uTHNDxZw16NR",
        "outputId": "89f87307-4f59-43cb-a880-384e2fb9342d"
      },
      "id": "uTHNDxZw16NR",
      "execution_count": null,
      "outputs": [
        {
          "output_type": "stream",
          "name": "stdout",
          "text": [
            "['file1', 'py']\n",
            "['file2', 'txt']\n",
            "['file3', 'pptx']\n",
            "['file4', 'doc']\n"
          ]
        }
      ]
    },
    {
      "cell_type": "markdown",
      "id": "0eb04d41",
      "metadata": {
        "id": "0eb04d41"
      },
      "source": [
        "### 문제 5\n",
        "딕셔너리 temp에서 최저 기온인 요일과, 최고 기온인 요일을 출력하는 프로그램을 만들어보세요."
      ]
    },
    {
      "cell_type": "markdown",
      "source": [
        "1번 문제 풀이 사용해서 단위에 상관없이 구할 수도 있음"
      ],
      "metadata": {
        "id": "Z9OrLgCr_2T0"
      },
      "id": "Z9OrLgCr_2T0"
    },
    {
      "cell_type": "code",
      "source": [
        "temp={\"월\":25,\"화\":10,\"수\":31,\"목\":6,\"금\":5,\"토\":27,\"일\":18}\n",
        "max_temp=temp[\"월\"]\n",
        "min_temp=temp[\"월\"]\n",
        "b=\"\"\n",
        "c=\"\"\n",
        "for key in temp:\n",
        "  if max_temp <= temp[key]:\n",
        "    max_temp=temp[key]\n",
        "    b=key\n",
        "  if min_temp >= temp[key]:\n",
        "    min_temp=temp[key]\n",
        "    c=key     \n",
        "print(\"{}요일에 최고기온이고 {}요일에 최저기온입니다.\".format(b,c))"
      ],
      "metadata": {
        "id": "e9hmrHiE8vKn",
        "colab": {
          "base_uri": "https://localhost:8080/"
        },
        "outputId": "40af8e73-0481-4f6b-94d4-b441b6847488"
      },
      "id": "e9hmrHiE8vKn",
      "execution_count": null,
      "outputs": [
        {
          "output_type": "stream",
          "name": "stdout",
          "text": [
            "토요일에 최고기온이고 일요일에 최저기온입니다.\n"
          ]
        }
      ]
    },
    {
      "cell_type": "markdown",
      "source": [
        "temp의 키값이 '월'이 아닌 '월요일' 이나 'Mon'일 경우도 포함시키기 위해"
      ],
      "metadata": {
        "id": "DZQTdBgr6Mv7"
      },
      "id": "DZQTdBgr6Mv7"
    },
    {
      "cell_type": "code",
      "source": [
        "temp={\"Mon\":25,\"Tue\":10,\"Wed\":31,\"Tur\":6,\"Fri\":5,\"Sat\":27,\"Sun\":10}\n",
        "day_temp=list(temp.values())\n",
        "max_temp=max(day_temp)\n",
        "min_temp=min(day_temp)\n",
        "\n",
        "for key in temp:\n",
        "    if temp[key] is max_temp:\n",
        "        max_day=key\n",
        "    if temp[key] is min_temp:\n",
        "        min_day=key\n",
        "\n",
        "print(\"최고기온인 요일은 {}이고 최저기온인 요일은 {}입니다.\".format(max_day,min_day))"
      ],
      "metadata": {
        "id": "4GNqmCpi6Zls",
        "colab": {
          "base_uri": "https://localhost:8080/"
        },
        "outputId": "50132fe4-8bf2-409c-f98d-a41f0d158946"
      },
      "id": "4GNqmCpi6Zls",
      "execution_count": null,
      "outputs": [
        {
          "output_type": "stream",
          "name": "stdout",
          "text": [
            "최고기온인 요일은 Wed이고 최저기온인 요일은 Fri입니다.\n"
          ]
        }
      ]
    },
    {
      "cell_type": "markdown",
      "source": [
        "for문, if문 없이 만들기"
      ],
      "metadata": {
        "id": "3OrNU9-R_I9x"
      },
      "id": "3OrNU9-R_I9x"
    },
    {
      "cell_type": "code",
      "source": [
        "temp={\"월\":25,\"화\":10,\"수\":31,\"목\":6,\"금\":5,\"토\":27,\"일\":18}\n",
        "\n",
        "day=list(temp.keys())\n",
        "day_temp=list(temp.values())\n",
        "\n",
        "max_temp=max(day_temp)\n",
        "min_temp=min(day_temp)\n",
        "\n",
        "max_index=day_temp.index(max_temp)\n",
        "min_index=day_temp.index(min_temp)\n",
        "\n",
        "max_day=day[max_index]\n",
        "min_day=day[min_index]\n",
        "\n",
        "print(\"최고기온인 요일은 {}이고 최저기온인 요일은 {}입니다.\".format(max_day,min_day))"
      ],
      "metadata": {
        "id": "q-8lIP9w_MSk",
        "colab": {
          "base_uri": "https://localhost:8080/"
        },
        "outputId": "34589973-17af-4001-f4d7-fead1592aaa7"
      },
      "id": "q-8lIP9w_MSk",
      "execution_count": null,
      "outputs": [
        {
          "output_type": "stream",
          "name": "stdout",
          "text": [
            "최고기온인 요일은 수이고 최저기온인 요일은 금입니다.\n"
          ]
        }
      ]
    },
    {
      "cell_type": "markdown",
      "source": [
        "딕셔너리 뒤집어서 만들기"
      ],
      "metadata": {
        "id": "-AqDHXRKTLLc"
      },
      "id": "-AqDHXRKTLLc"
    },
    {
      "cell_type": "code",
      "source": [
        "temp={\"월\":25,\"화\":10,\"수\":31,\"목\":6,\"금\":5,\"토\":27,\"일\":18}\n",
        "a={}\n",
        "\n",
        "for k in temp:\n",
        "    a[temp[k]]=k\n",
        "    \n",
        "max_day=a[max(list(a.keys()))]\n",
        "min_day=a[min(list(a.keys()))]\n",
        "\n",
        "print(\"최고기온인 요일은 {}이고 최저기온인 요일은 {}입니다.\".format(max_day,min_day))"
      ],
      "metadata": {
        "colab": {
          "base_uri": "https://localhost:8080/"
        },
        "id": "djATtyNzTKEy",
        "outputId": "8a1ab062-149b-45cc-e5e3-ab65ddfab0c5"
      },
      "id": "djATtyNzTKEy",
      "execution_count": null,
      "outputs": [
        {
          "output_type": "stream",
          "name": "stdout",
          "text": [
            "최고기온인 요일은 수이고 최저기온인 요일은 금입니다.\n"
          ]
        }
      ]
    },
    {
      "cell_type": "markdown",
      "source": [
        "내포 사용"
      ],
      "metadata": {
        "id": "Jt04MSy7NimC"
      },
      "id": "Jt04MSy7NimC"
    },
    {
      "cell_type": "code",
      "source": [
        "temp={\"월\":25,\"화\":10,\"수\":31,\"목\":6,\"금\":5,\"토\":27,\"일\":18}\n",
        "\n",
        "a={temp[k]:k for k in temp}\n",
        "    \n",
        "max_day=a[max(list(a.keys()))]\n",
        "min_day=a[min(list(a.keys()))]\n",
        "\n",
        "print(\"최고기온인 요일은 {}이고 최저기온인 요일은 {}입니다.\".format(max_day,min_day))"
      ],
      "metadata": {
        "colab": {
          "base_uri": "https://localhost:8080/"
        },
        "id": "wLRh5AKPNld8",
        "outputId": "a1a692c1-372c-4625-ee6a-00b1d59be1cd"
      },
      "id": "wLRh5AKPNld8",
      "execution_count": 9,
      "outputs": [
        {
          "output_type": "stream",
          "name": "stdout",
          "text": [
            "최고기온인 요일은 수이고 최저기온인 요일은 금입니다.\n"
          ]
        }
      ]
    },
    {
      "cell_type": "markdown",
      "id": "125b5ec0",
      "metadata": {
        "id": "125b5ec0"
      },
      "source": [
        "### 문제 6\n",
        "팩토리얼 함수, n값을 입력하면, n!을 반환하는 함수를 만들어보세요.  \n",
        "(팩토리얼이란 기호로 간단하게 n!로 나타내며 1부터 n까지의 자연수를 모두 곱하는 것을 의미한다.)"
      ]
    },
    {
      "cell_type": "code",
      "source": [
        "num=input(\"입력: \")\n",
        "num=int(num)\n",
        "\n",
        "def fac(n):\n",
        "  a=1\n",
        "  for i in range(1,n+1):\n",
        "    a=a*i\n",
        "  return a\n",
        "\n",
        "print(fac(num))"
      ],
      "metadata": {
        "colab": {
          "base_uri": "https://localhost:8080/"
        },
        "id": "HOUf3VfymP2d",
        "outputId": "4940d392-b9ec-429f-9895-2b81b4f28148"
      },
      "id": "HOUf3VfymP2d",
      "execution_count": null,
      "outputs": [
        {
          "output_type": "stream",
          "name": "stdout",
          "text": [
            "입력: 5\n",
            "120\n"
          ]
        }
      ]
    },
    {
      "cell_type": "markdown",
      "source": [
        "재귀함수 사용하면"
      ],
      "metadata": {
        "id": "OMQlwlkSyDb4"
      },
      "id": "OMQlwlkSyDb4"
    },
    {
      "cell_type": "code",
      "source": [
        "num=input(\"입력: \")\n",
        "num=int(num)\n",
        "\n",
        "def fac(a):\n",
        "  if a==1:\n",
        "    return 1\n",
        "  else:\n",
        "    return a*fac(a-1)\n",
        "  \n",
        "print(fac(num))"
      ],
      "metadata": {
        "colab": {
          "base_uri": "https://localhost:8080/"
        },
        "id": "hS65saL2yEht",
        "outputId": "c493dbcd-b828-46c1-863a-54d20b570da2"
      },
      "id": "hS65saL2yEht",
      "execution_count": null,
      "outputs": [
        {
          "output_type": "stream",
          "name": "stdout",
          "text": [
            "입력: 5\n",
            "120\n"
          ]
        }
      ]
    },
    {
      "cell_type": "markdown",
      "id": "5767077d",
      "metadata": {
        "id": "5767077d"
      },
      "source": [
        "### 문제 7\n",
        "n값을 입력하면, n값에 맞게 \"안녕\"을 출력하는 프로그램을 만들어보세요.  \n",
        "(ex. n값이 5면 \"안녕안녕안\", n값이 4이면 \"안녕안녕\")"
      ]
    },
    {
      "cell_type": "code",
      "source": [
        "n=input(\"입력: \")\n",
        "n=int(n)\n",
        "print(\"안녕\"*(n//2)+\"안\"*(n%2))"
      ],
      "metadata": {
        "id": "dE_6dASS8wNw",
        "colab": {
          "base_uri": "https://localhost:8080/"
        },
        "outputId": "4f7118b2-9668-4f9d-f3da-1cb601a4b9bc"
      },
      "id": "dE_6dASS8wNw",
      "execution_count": null,
      "outputs": [
        {
          "output_type": "stream",
          "name": "stdout",
          "text": [
            "입력: 7\n",
            "안녕안녕안녕안\n"
          ]
        }
      ]
    }
  ],
  "metadata": {
    "kernelspec": {
      "display_name": "Python 3 (ipykernel)",
      "language": "python",
      "name": "python3"
    },
    "language_info": {
      "codemirror_mode": {
        "name": "ipython",
        "version": 3
      },
      "file_extension": ".py",
      "mimetype": "text/x-python",
      "name": "python",
      "nbconvert_exporter": "python",
      "pygments_lexer": "ipython3",
      "version": "3.9.7"
    },
    "colab": {
      "provenance": [],
      "collapsed_sections": [],
      "include_colab_link": true
    }
  },
  "nbformat": 4,
  "nbformat_minor": 5
}